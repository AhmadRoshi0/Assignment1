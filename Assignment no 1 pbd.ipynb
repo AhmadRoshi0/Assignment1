{
 "cells": [
  {
   "cell_type": "markdown",
   "id": "371ef117",
   "metadata": {},
   "source": [
    "# Q NO 1"
   ]
  },
  {
   "cell_type": "code",
   "execution_count": 38,
   "id": "150ef6eb",
   "metadata": {},
   "outputs": [],
   "source": [
    "import pandas as pd\n",
    "\n",
    "df= pd.read_csv('jsrt_metadata.csv')"
   ]
  },
  {
   "cell_type": "code",
   "execution_count": 39,
   "id": "aa4f1e9d",
   "metadata": {},
   "outputs": [
    {
     "name": "stdout",
     "output_type": "stream",
     "text": [
      "lung cancer                                       56\n",
      "lung cancer(adenocarcinoma)                       23\n",
      "tuberculoma                                       14\n",
      "granuloma                                          8\n",
      "lung cancer(bronchioloalveolar cell carcinoma)     7\n",
      "unknown                                            4\n",
      "metastasis of colon cancer                         4\n",
      "inflammatory mass                                  4\n",
      "pulmonary tuberculosis                             3\n",
      "lung abscess                                       2\n",
      "Cryptococcosis                                     2\n",
      "lung cancer(squamous cell carcinoma)               2\n",
      "Inflammatory mass                                  2\n",
      "pulmonary hematoma                                 2\n",
      "susp. inflammatory mass                            2\n",
      "hamartoma                                          2\n",
      "sclerosing hemangioma                              2\n",
      "lung cancer(large cell carcinoma)                  1\n",
      "susp. hamartoma                                    1\n",
      "metastasis of uterine cancer                       1\n",
      "organizing pneumonia                               1\n",
      "metastasis of ovarian cancer                       1\n",
      "metastatic lung cancer                             1\n",
      "lung canceror metastasis                           1\n",
      "pneumonia                                          1\n",
      "calcified granuloma                                1\n",
      "lung cancer(adenosquamous carcinoma)               1\n",
      "lung cancer(small cell carcinoma)                  1\n",
      "susp.tuberculoma                                   1\n",
      "organiging pneumonia                               1\n",
      "susp. sclerosing hemangioma                        1\n",
      "susp. lung metastasis                              1\n",
      "Name: diagnosis, dtype: int64\n",
      "Total Number of Patients: 154\n"
     ]
    }
   ],
   "source": [
    "print(df['diagnosis'].value_counts())\n",
    "print(\"Total  Patients:\",df['diagnosis'].value_counts().sum())\n",
    "df['diagnosis']=df['diagnosis'].astype('str')\n"
   ]
  },
  {
   "cell_type": "code",
   "execution_count": 40,
   "id": "b4fd19a3",
   "metadata": {},
   "outputs": [],
   "source": [
    "import matplotlib as plt\n"
   ]
  },
  {
   "cell_type": "code",
   "execution_count": 60,
   "id": "77a88f91",
   "metadata": {},
   "outputs": [
    {
     "data": {
      "text/plain": [
       "Text(0.5, 0, 'Category')"
      ]
     },
     "execution_count": 60,
     "metadata": {},
     "output_type": "execute_result"
    },
    {
     "data": {
      "image/png": "[encoded data removed]",
      "text/plain": [
       "<Figure size 432x288 with 1 Axes>"
      ]
     },
     "metadata": {
      "needs_background": "light"
     },
     "output_type": "display_data"
    }
   ],
   "source": [
    "plt.pyplot.hist(df['diagnosis'],color='skyblue',ec='pink')\n",
    "plt.pyplot.title('People Diagnosis')\n",
    "plt.pyplot.ylabel('Frequency')\n",
    "plt.pyplot.xlabel('Category')"
   ]
  },
  {
   "cell_type": "markdown",
   "id": "6748e291",
   "metadata": {},
   "source": [
    "# Q no 2"
   ]
  },
  {
   "cell_type": "code",
   "execution_count": 51,
   "id": "c59af8e8",
   "metadata": {},
   "outputs": [],
   "source": [
    "import matplotlib as plt\n"
   ]
  },
  {
   "cell_type": "code",
   "execution_count": 52,
   "id": "83c06c86",
   "metadata": {},
   "outputs": [],
   "source": [
    "m=len(df[df.state=='malignant'])\n",
    "b=len(df[df.state=='benign'])"
   ]
  },
  {
   "cell_type": "code",
   "execution_count": 53,
   "id": "7e3831bd",
   "metadata": {},
   "outputs": [
    {
     "name": "stdout",
     "output_type": "stream",
     "text": [
      "malignant:  100   benign:   54   Total Number of Patients: 154\n"
     ]
    }
   ],
   "source": [
    "sum=int(m+b)\n",
    "print('malignant are: ',m,' ','benign are:  ',b,' ',\" Patients:\",sum)"
   ]
  },
  {
   "cell_type": "code",
   "execution_count": 65,
   "id": "9aa07616",
   "metadata": {},
   "outputs": [
    {
     "data": {
      "text/plain": [
       "([<matplotlib.patches.Wedge at 0x24b64ec4880>,\n",
       "  <matplotlib.patches.Wedge at 0x24b64ec4fd0>],\n",
       " [Text(-0.612164900683365, 0.9139223896870707, ''),\n",
       "  Text(0.6121649006833645, -0.9139223896870711, '')],\n",
       " [Text(-0.33390812764547184, 0.49850312164749305, '68.8%'),\n",
       "  Text(0.3339081276454715, -0.4985031216474933, '31.2%')])"
      ]
     },
     "execution_count": 65,
     "metadata": {},
     "output_type": "execute_result"
    },
    {
     "data": {
      "image/png": "[encoded data removed]",
      "text/plain": [
       "<Figure size 432x288 with 1 Axes>"
      ]
     },
     "metadata": {},
     "output_type": "display_data"
    }
   ],
   "source": [
    "plt.pyplot.pie(x=[m,b],labels=['malignant','benign'])\n",
    "plt.pyplot.pie(x=[m,b],colors=['blue','white'],autopct='%1.1f%%')"
   ]
  },
  {
   "cell_type": "markdown",
   "id": "52e8c28f",
   "metadata": {},
   "source": [
    "# Q no3"
   ]
  },
  {
   "cell_type": "code",
   "execution_count": 55,
   "id": "d1b50bc9",
   "metadata": {},
   "outputs": [],
   "source": [
    "import matplotlib as plt\n",
    "\n"
   ]
  },
  {
   "cell_type": "code",
   "execution_count": 56,
   "id": "843ce773",
   "metadata": {},
   "outputs": [],
   "source": [
    "m=len(df[df.gender=='Male'])\n",
    "f=len(df[df.gender=='Female'])"
   ]
  },
  {
   "cell_type": "code",
   "execution_count": 57,
   "id": "667ad24b",
   "metadata": {},
   "outputs": [
    {
     "name": "stdout",
     "output_type": "stream",
     "text": [
      "malignant:  119   benign:   128   Total Number of Patients: 247\n"
     ]
    }
   ],
   "source": [
    "sum=int(m+f)\n",
    "print('Male are : ',m,' ',' Female are:  ',f,' ',\"Total Patients:\",sum)"
   ]
  },
  {
   "cell_type": "code",
   "execution_count": 66,
   "id": "43a06e9e",
   "metadata": {},
   "outputs": [
    {
     "data": {
      "text/plain": [
       "([<matplotlib.patches.Wedge at 0x24b64f16a00>,\n",
       "  <matplotlib.patches.Wedge at 0x24b64f231c0>],\n",
       " [Text(0.06292471903937326, 1.098198743276378, ''),\n",
       "  Text(-0.06292471903937316, -1.098198743276378, '')],\n",
       " [Text(0.03432257402147632, 0.5990174963325697, '48.2%'),\n",
       "  Text(-0.03432257402147627, -0.5990174963325697, '51.8%')])"
      ]
     },
     "execution_count": 66,
     "metadata": {},
     "output_type": "execute_result"
    },
    {
     "data": {
      "image/png": "[encoded data removed]",
      "text/plain": [
       "<Figure size 432x288 with 1 Axes>"
      ]
     },
     "metadata": {},
     "output_type": "display_data"
    }
   ],
   "source": [
    "plt.pyplot.pie(x=[m,f],labels=['Male','Femail'])\n",
    "plt.pyplot.pie(x=[m,f],colors=['pink','orange'],autopct='%1.1f%%')"
   ]
  },
  {
   "cell_type": "code",
   "execution_count": null,
   "id": "6c8c22ed",
   "metadata": {},
   "outputs": [],
   "source": []
  },
  {
   "cell_type": "code",
   "execution_count": null,
   "id": "2080581f",
   "metadata": {},
   "outputs": [],
   "source": []
  }
 ],
 "metadata": {
  "kernelspec": {
   "display_name": "Python 3 (ipykernel)",
   "language": "python",
   "name": "python3"
  },
  "language_info": {
   "codemirror_mode": {
    "name": "ipython",
    "version": 3
   },
   "file_extension": ".py",
   "mimetype": "text/x-python",
   "name": "python",
   "nbconvert_exporter": "python",
   "pygments_lexer": "ipython3",
   "version": "3.9.7"
  }
 },
 "nbformat": 4,
 "nbformat_minor": 5
}
